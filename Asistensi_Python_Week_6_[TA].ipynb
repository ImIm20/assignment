{
  "nbformat": 4,
  "nbformat_minor": 0,
  "metadata": {
    "colab": {
      "provenance": [],
      "include_colab_link": true
    },
    "kernelspec": {
      "name": "python3",
      "display_name": "Python 3"
    },
    "language_info": {
      "name": "python"
    }
  },
  "cells": [
    {
      "cell_type": "markdown",
      "metadata": {
        "id": "view-in-github",
        "colab_type": "text"
      },
      "source": [
        "<a href=\"https://colab.research.google.com/github/ImIm20/projects/blob/main/Asistensi_Python_Week_6_%5BTA%5D.ipynb\" target=\"_parent\"><img src=\"https://colab.research.google.com/assets/colab-badge.svg\" alt=\"Open In Colab\"/></a>"
      ]
    },
    {
      "cell_type": "markdown",
      "source": [
        "# $\\text{Python Mei 23 | Asistensi Week 6 }$"
      ],
      "metadata": {
        "id": "jM2cikNX0KqA"
      }
    },
    {
      "cell_type": "markdown",
      "source": [
        "## $\\text{A. Rekapan Materi}$"
      ],
      "metadata": {
        "id": "-kaKSfWyKjRF"
      }
    },
    {
      "cell_type": "markdown",
      "source": [
        "### $\\text{1. Error, Debugging, and Clean Code}$\n",
        "<font size = 4.7> **Syntax Error**</font></h1>\n",
        "- kesalahan dalam penulisan tata bahasa (syntax) pada Python\n",
        "- penulisan tidak sesuai dengan aturan bahasa pemrograman Python\n",
        "\n",
        "| Nama Error | Artinya |\n",
        "-------------|----------\n",
        "|SyntaxError            | kesalahan dalam tata bahasa pemrograman  |\n",
        "|IndentationError            | menggunakan indentasi secara tidak semestinya |"
      ],
      "metadata": {
        "id": "AP53yeZal6yf"
      }
    },
    {
      "cell_type": "markdown",
      "source": [
        "<font size = 4.7> **Exception Error**</font></h1>\n",
        "- *error* yang terjadi selama proses eksekusi program\n",
        "- terdapat baris *code* tertentu yang salah\n",
        "\n",
        "| Nama Error | Artinya |\n",
        "-------------|----------\n",
        "|AttributeError            |   Objek tidak mengandung variabel atau metode contoh yang ditentukan      |\n",
        "|ImportError            | Statement import gagal menemukan modul atau nama tidak sesuai          |\n",
        "|IndexError            | Urutan(list, string, tuple) indeks di luar jangkauan        |\n",
        "|KeyError            | Key tidak ditentukan pada data dictionary  |\n",
        "|NameError            |Nama variabel lokal atau global yang ditentukan tidak ada                |\n",
        "|TypeError            | Operator atau fungsi yang diterapkan tidak tepat        |\n",
        "|ValueError            |Operasi atau fungsi diterapkan benar namun nilai tidak sesuai         |\n",
        "|ZeroDivisionError            |   Operand kedua dalam operasi pembagian atau modulus adalah nol      |\n",
        "\n",
        "Hierarki Exception: https://docs.python.org/3/library/exceptions.html#exception-hierarchy"
      ],
      "metadata": {
        "id": "uYb-yFquni4h"
      }
    },
    {
      "cell_type": "markdown",
      "source": [
        "<font size = 4.7> **Logical Error**</font></h1>\n",
        "- tidak akan mendapatkan pesan kesalahan (*error*) mengenai apa\n",
        "- program berjalan namun output tidak sesuai harapan\n",
        "- **solusi:** debugging"
      ],
      "metadata": {
        "id": "jwBVp4LLo7wG"
      }
    },
    {
      "cell_type": "markdown",
      "source": [
        "##### **Try, Except, and Raise**"
      ],
      "metadata": {
        "id": "z2NtbmYYob0k"
      }
    },
    {
      "cell_type": "code",
      "source": [
        "if type(\"nmsdknam\") != int:\n",
        "  print('Bukan int')"
      ],
      "metadata": {
        "id": "k92pGUvrntLe",
        "colab": {
          "base_uri": "https://localhost:8080/"
        },
        "outputId": "073d4165-5173-483b-c757-67cdeb925611"
      },
      "execution_count": null,
      "outputs": [
        {
          "output_type": "stream",
          "name": "stdout",
          "text": [
            "Bukan int\n"
          ]
        }
      ]
    },
    {
      "cell_type": "code",
      "source": [
        "try:\n",
        "    9/1\n",
        "    #print(integer)\n",
        "except ZeroDivisionError:\n",
        "    print('Terjadi exception zero divisor')\n",
        "except NameError:\n",
        "    print('Terjadi exception atribut')\n",
        "except:\n",
        "    print('except  : execute this block when exception/error occured')\n",
        "finally:\n",
        "    print('finally : always execute/run this block code')"
      ],
      "metadata": {
        "id": "1ZgJBfaXo6xe",
        "colab": {
          "base_uri": "https://localhost:8080/"
        },
        "outputId": "d88a4360-6e0a-4cbe-ebdd-db0f05786fbf"
      },
      "execution_count": null,
      "outputs": [
        {
          "output_type": "stream",
          "name": "stdout",
          "text": [
            "finally : always execute/run this block code\n"
          ]
        }
      ]
    },
    {
      "cell_type": "code",
      "source": [
        "try:\n",
        "    # import panda\n",
        "    penyebut = int(input(\"masukan angka penyebut: \"))\n",
        "    pembilang = int(input(\"masukan angka pembilang: \"))\n",
        "    hasil = penyebut/pembilang\n",
        "except ValueError:\n",
        "    print(\"yang anda masukan bukan angka\\n\")\n",
        "except ZeroDivisionError:\n",
        "    print(\"angka pembilang yang anda masukan adalah nol, pilih yang lain ya bro/sist\\n\")\n",
        "except ImportError:\n",
        "    print(\"gak ada modulnya bro\")\n",
        "except Exception as err:\n",
        "    print(err)\n",
        "finally:\n",
        "  print('Input anda sudah benar')"
      ],
      "metadata": {
        "id": "UW1jKi1-o7RN",
        "colab": {
          "base_uri": "https://localhost:8080/"
        },
        "outputId": "c4faf5dd-d80b-440c-ef3c-820c553a41cd"
      },
      "execution_count": null,
      "outputs": [
        {
          "output_type": "stream",
          "name": "stdout",
          "text": [
            "masukan angka penyebut: 8\n",
            "masukan angka pembilang: 4\n",
            "Input anda sudah benar\n"
          ]
        }
      ]
    },
    {
      "cell_type": "markdown",
      "source": [
        "#### **Clean Code**\n",
        "- Naming Conventions\n",
        "\n",
        "|Type | Naming Convention | Contoh|\n",
        "-------------|----------|--------|\n",
        "|Function            |   Menggunakan huruf kecil tiap kata. pisahkan antar kata menggunakan underscore      |  function, my_function|function, my_function|\n",
        "|Variable            | Menggunakan satu kata atau lebih  dengan huruf kecil. pisahkan antar kata menggunakan underscore |x, var, my_variable|\n",
        "|Class            | Dimulai awal kata dengan huruf besar. jangan memisahkan antar kata dengan underscore. style ini disebut camel base        |Model, MyClass|\n",
        "|Method            | Key tidak ditentukan pada data dictionary  |class_method, method|\n",
        "|Constant            | Menggunakan huruf besar pada satu kata atau lebih |pisahkan kata dengan underscore|CONSTANT, MY_CONSTANT, MY_LONG_CONSTANT|\n",
        "|Module            | Menggunakan huruf kecil dalam penamaannya. pisahkan kata dengan underscore         |module.py, my_module.py|\n",
        "|Package            |Menggunakan huruf kecil dalam penamaannya. jangan pisahkan kata dengan underscore |package, mypackage|\n",
        "\n",
        "- Code Layout\n",
        "- Indentations\n",
        "- Comments\n",
        "- Docstrings\n",
        "- Whitespace\n",
        "- When to Ignore PEP8\n",
        "\n",
        "**When to Ignore PEP8**\n",
        "\n",
        "Pada dasarnya ketika anda telah mengikuti arahan dari PEP 8 maka dapat dijamin kode anda akan lebih clean, professional, dan readable. Hal ini akan menguntungkan semua pihak, termasuk kolaborator dan teman kerja anda.\n",
        "\n",
        "Namun, tetap ada beberapa guidelines yang bisa dicermati untuk memilih kapan saatnya tidak menggunakan anjuran PEP 8:\n",
        "\n",
        "* If complying with PEP 8 would break compatibility with existing software\n",
        "* If code surrounding what you’re working on is inconsistent with PEP 8\n",
        "* If code needs to remain compatible with older versions of Python"
      ],
      "metadata": {
        "id": "Pfqt-0x8nt23"
      }
    },
    {
      "cell_type": "markdown",
      "source": [
        "## $\\text{B. Quizz Pertemuan ke-1}$"
      ],
      "metadata": {
        "id": "_cDOgr2WK20Y"
      }
    },
    {
      "cell_type": "markdown",
      "source": [
        "### $\\text{Soal 1}$\n",
        "\n",
        "####**Transaksi Sederhana**\n",
        "- Buat Class `Warung()` dengan atribut dan method berikut:\n",
        "\n",
        "Attributes:\n",
        "- `nama_barang  ` : list berisikan **nama** barang yang dibeli\n",
        "- `harga_barang ` : list berisikan **harga** barang yang dibeli, urutan berkorespodensi dengan `nama_barang`\n",
        "- `jumlah_barang` : list berisikan **jumlah** barang yang dibeli, urutan berkorespodensi dengan `nama_barang`\n",
        "\n",
        "Methods:\n",
        "- `tambah_barang()` : method untuk menambahkan data belanja pada atribut\n",
        "- `check_keranjang()` : method yang memberikan informasi jumlah dan nama barang yang dibeli\n",
        "- `checkout()` : method yang memberikan total harga barang yang dibeli\n",
        "\n",
        "Agar lebih baik, buat program agar lebih interaktif dengan menerima input dari user"
      ],
      "metadata": {
        "id": "Brc4pnNyLR1S"
      }
    },
    {
      "cell_type": "code",
      "source": [
        "# buat class Warung\n",
        "class Warung():\n",
        "    def __init__(self):\n",
        "        self.nama_barang = list()\n",
        "        self.harga_barang = list()\n",
        "        self.jumlah_barang = list()\n",
        "\n",
        "    def tambah_barang(self, nama, harga, jumlah):\n",
        "        self.nama_barang.append(nama)\n",
        "        self.harga_barang.append(harga)\n",
        "        self.jumlah_barang.append(jumlah)\n",
        "\n",
        "    def check_keranjang(self):\n",
        "        for i in range(len(self.nama_barang)):\n",
        "            print(f'{self.nama_barang[i]}\\t{self.jumlah_barang[i]}')\n",
        "\n",
        "    def checkout(self):\n",
        "        total_harga = 0\n",
        "        for i in range(len(self.nama_barang)):\n",
        "            total_harga += self.harga_barang[i]*self.jumlah_barang[i]\n",
        "        print('Total Harga =', total_harga)"
      ],
      "metadata": {
        "id": "xdaBNUp2Qt2b"
      },
      "execution_count": null,
      "outputs": []
    },
    {
      "cell_type": "code",
      "source": [
        "# buat objek berdasarkan class\n",
        "transaksi01 = Warung()\n",
        "transaksi01.tambah_barang('Klepon', 3000, 3)\n",
        "transaksi01.tambah_barang('Ote-Ote', 2500, 2)\n",
        "transaksi01.tambah_barang('Tahu', 2000, 6)"
      ],
      "metadata": {
        "id": "QzaoZzAKqv2G"
      },
      "execution_count": null,
      "outputs": []
    },
    {
      "cell_type": "code",
      "source": [
        "transaksi01.check_keranjang()"
      ],
      "metadata": {
        "colab": {
          "base_uri": "https://localhost:8080/"
        },
        "id": "7B8XV__rrToB",
        "outputId": "082f6c8d-a75b-4808-ae21-dc37f9e60349"
      },
      "execution_count": null,
      "outputs": [
        {
          "output_type": "stream",
          "name": "stdout",
          "text": [
            "Klepon\t3\n",
            "Ote-Ote\t2\n",
            "Tahu\t6\n"
          ]
        }
      ]
    },
    {
      "cell_type": "code",
      "source": [
        "transaksi01.checkout()"
      ],
      "metadata": {
        "colab": {
          "base_uri": "https://localhost:8080/"
        },
        "id": "rPUJsrLxrUPN",
        "outputId": "2f5afa78-bef2-481d-880c-711f18b2dcad"
      },
      "execution_count": null,
      "outputs": [
        {
          "output_type": "stream",
          "name": "stdout",
          "text": [
            "Total Harga = 26000\n"
          ]
        }
      ]
    },
    {
      "cell_type": "code",
      "source": [
        "jumlah = int(input(\"mau beli berapa kali barang: \"))\n",
        "keranjang = dict()\n",
        "\n",
        "for i in range(jumlah):\n",
        "  print(f'barang ke:{i+1}')\n",
        "  inputNama = input(\"masukan nama barang: \")\n",
        "  inputJumlah = int(input(\"masukan jumlah barang: \"))\n",
        "  keranjang[inputNama] = inputJumlah\n",
        "\n",
        "keranjang"
      ],
      "metadata": {
        "colab": {
          "base_uri": "https://localhost:8080/"
        },
        "id": "6UH7QJkQkiyy",
        "outputId": "51cc271a-f6f6-4f56-ae05-c6b9f241ee56"
      },
      "execution_count": null,
      "outputs": [
        {
          "name": "stdout",
          "output_type": "stream",
          "text": [
            "mau beli berapa kali barang: 2\n",
            "barang ke:1\n",
            "masukan nama barang: mobil\n",
            "masukan jumlah barang: 2\n",
            "barang ke:2\n",
            "masukan nama barang: motor\n",
            "masukan jumlah barang: 3\n"
          ]
        },
        {
          "output_type": "execute_result",
          "data": {
            "text/plain": [
              "{'mobil': 2, 'motor': 3}"
            ]
          },
          "metadata": {},
          "execution_count": 67
        }
      ]
    },
    {
      "cell_type": "code",
      "source": [
        "for nama in ['indra', 'faisal', 'azmi']:\n",
        "  print(nama)"
      ],
      "metadata": {
        "colab": {
          "base_uri": "https://localhost:8080/"
        },
        "id": "3SNGZ5ExmdMp",
        "outputId": "ee43c57d-ea3a-4520-c33b-43bbfe2e28a4"
      },
      "execution_count": null,
      "outputs": [
        {
          "output_type": "stream",
          "name": "stdout",
          "text": [
            "indra\n",
            "faisal\n",
            "azmi\n"
          ]
        }
      ]
    },
    {
      "cell_type": "code",
      "source": [
        "for nomer in range(2):\n",
        "  print(\"nama saya azmi\")"
      ],
      "metadata": {
        "colab": {
          "base_uri": "https://localhost:8080/"
        },
        "id": "pLoXrNeBlx6y",
        "outputId": "843555a5-948d-4f91-b1b6-292d4df6f26e"
      },
      "execution_count": null,
      "outputs": [
        {
          "output_type": "stream",
          "name": "stdout",
          "text": [
            "nama saya azmi\n",
            "nama saya azmi\n"
          ]
        }
      ]
    },
    {
      "cell_type": "markdown",
      "source": [
        "### $\\text{Soal 2}$\n",
        "###**Kantin**\n",
        "=======================================================================\n",
        "- Buat Class `Kantin()` dengan atribut dan method berikut\n",
        "\n",
        "Attributes:\n",
        "- `posisi` : string berupa letak dari kantin tersebut\n",
        "- `barang` : dictionary berupa barang dan jumlah barang yang ada pada kantin\n",
        "\n",
        "Methods:\n",
        "- `beli_barang` : method untuk menambahkan barang-barang di kantin tersebut\n"
      ],
      "metadata": {
        "id": "UO5mUMtNLYxS"
      }
    },
    {
      "cell_type": "markdown",
      "source": [
        "=======================================================================\n",
        "\n",
        "- Buat Sub-Class `Kedai()` dengan atribut dan method tambahan berikut:\n",
        "\n",
        "Attributes:\n",
        "- `saldo` : integer berupa banyak uang yang dimiliki kedai\n",
        "\n",
        "Methods:\n",
        "- `bahan_terjual` : method dijalankan ketika ada barang yang dibeli oleh pelanggan"
      ],
      "metadata": {
        "id": "fG0geAiNsA-I"
      }
    },
    {
      "cell_type": "code",
      "source": [
        "class Kantin():\n",
        "    def __init__(self, posisi):\n",
        "        self.posisi = posisi\n",
        "        self.barang = dict()\n",
        "\n",
        "    def beli_barang(self, barang, jumlah):\n",
        "        self.barang[barang] = jumlah"
      ],
      "metadata": {
        "id": "_OcQnR5gsRkf"
      },
      "execution_count": null,
      "outputs": []
    },
    {
      "cell_type": "code",
      "source": [
        "kantin_1 = Kantin('Taman')\n",
        "kantin_1.beli_barang('meja', 2)\n",
        "kantin_1.beli_barang('etalase', 1)\n",
        "kantin_1.barang"
      ],
      "metadata": {
        "id": "x0cCa1Pwsb8Y",
        "colab": {
          "base_uri": "https://localhost:8080/"
        },
        "outputId": "b4564a8c-807d-4614-9486-4f125c3145b1"
      },
      "execution_count": null,
      "outputs": [
        {
          "output_type": "execute_result",
          "data": {
            "text/plain": [
              "{'meja': 2, 'etalase': 1}"
            ]
          },
          "metadata": {},
          "execution_count": 21
        }
      ]
    },
    {
      "cell_type": "code",
      "source": [
        "class Kedai(Kantin):\n",
        "    def __init__(self, posisi):\n",
        "        super().__init__(posisi)\n",
        "        self.saldo = 100_000\n",
        "        self.bahan = list()\n",
        "\n",
        "    def tambah_bahan(self, nama_bahan, harga_bahan, jumlah):\n",
        "        self.bahan.append([nama_bahan, harga_bahan, jumlah])\n",
        "\n",
        "    def bahan_terjual(self, nama_bahan, jumlah):\n",
        "        try:\n",
        "            self.saldo += jumlah*self.bahan[self.cari_index(nama_bahan)][1]\n",
        "            self.bahan[self.cari_index(nama_bahan)][2] -= jumlah\n",
        "        except:\n",
        "            print(\"Makanan tersebut tidak dijual\")\n",
        "\n",
        "    def cari_index(self, nama_bahan):\n",
        "        for i in range(len(self.bahan)):\n",
        "            if nama_bahan == self.bahan[i][0]:\n",
        "                return i"
      ],
      "metadata": {
        "id": "PerGqwbosSRv"
      },
      "execution_count": null,
      "outputs": []
    },
    {
      "cell_type": "code",
      "source": [
        "kedai_1 = Kedai('01')\n",
        "kedai_1.tambah_bahan('Klepon', 3000, 8)"
      ],
      "metadata": {
        "id": "QbzoxpI3slFO"
      },
      "execution_count": null,
      "outputs": []
    },
    {
      "cell_type": "code",
      "source": [
        "kedai_1.tambah_bahan('Pastel', 4000, 7)\n",
        "kedai_1.bahan"
      ],
      "metadata": {
        "id": "9feFussbspPn",
        "colab": {
          "base_uri": "https://localhost:8080/"
        },
        "outputId": "6b9d6d4d-1c79-459e-8f4e-ca2bcc5c7523"
      },
      "execution_count": null,
      "outputs": [
        {
          "output_type": "execute_result",
          "data": {
            "text/plain": [
              "[['Klepon', 3000, 8], ['Pastel', 4000, 7]]"
            ]
          },
          "metadata": {},
          "execution_count": 40
        }
      ]
    },
    {
      "cell_type": "code",
      "source": [
        "kedai_1.saldo"
      ],
      "metadata": {
        "id": "T78MTwCssrWX",
        "colab": {
          "base_uri": "https://localhost:8080/"
        },
        "outputId": "e153e07f-8489-4684-dc3e-1deab4cbbd28"
      },
      "execution_count": null,
      "outputs": [
        {
          "output_type": "execute_result",
          "data": {
            "text/plain": [
              "100000"
            ]
          },
          "metadata": {},
          "execution_count": 30
        }
      ]
    },
    {
      "cell_type": "code",
      "source": [
        "kedai_1.bahan_terjual('Ote-Ote', 1)"
      ],
      "metadata": {
        "id": "pme9FAdVsuwv",
        "colab": {
          "base_uri": "https://localhost:8080/"
        },
        "outputId": "e47c2a97-003a-4cce-f37a-1cf9593ecf55"
      },
      "execution_count": null,
      "outputs": [
        {
          "output_type": "stream",
          "name": "stdout",
          "text": [
            "Makanan tersebut tidak dijual\n"
          ]
        }
      ]
    },
    {
      "cell_type": "markdown",
      "source": [
        "---\n",
        "# $\\text{Feedback Asistensi}$\n",
        "Terima Kasih telah mengikuti sesi asistensi hari ini! 😀\n",
        "\n",
        "Jangan lupa untuk mengisi feedback juga yaa, link feedback dapat diakses di\n",
        "[sini](https://bit.ly/FeedbackAsistensiSDA-Mei23)\n",
        "- Kelas = Python\n",
        "- Pekan = 6"
      ],
      "metadata": {
        "id": "WO8k6aPnNjH3"
      }
    }
  ]
}